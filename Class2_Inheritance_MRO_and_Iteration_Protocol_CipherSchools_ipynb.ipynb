{
  "nbformat": 4,
  "nbformat_minor": 0,
  "metadata": {
    "colab": {
      "provenance": [],
      "authorship_tag": "ABX9TyM0tPx2qiUQqcox/q9f4Iqw",
      "include_colab_link": true
    },
    "kernelspec": {
      "name": "python3",
      "display_name": "Python 3"
    },
    "language_info": {
      "name": "python"
    }
  },
  "cells": [
    {
      "cell_type": "markdown",
      "metadata": {
        "id": "view-in-github",
        "colab_type": "text"
      },
      "source": [
        "<a href=\"https://colab.research.google.com/github/ch-abhiram/week3-Python-CipherSchools/blob/main/Class2_Inheritance_MRO_and_Iteration_Protocol_CipherSchools_ipynb.ipynb\" target=\"_parent\"><img src=\"https://colab.research.google.com/assets/colab-badge.svg\" alt=\"Open In Colab\"/></a>"
      ]
    },
    {
      "cell_type": "code",
      "execution_count": 2,
      "metadata": {
        "id": "egY1EjfVfYnr"
      },
      "outputs": [],
      "source": [
        "# inheritance\n",
        "     \n",
        "\n",
        "class A:\n",
        "    def __init__(self):\n",
        "        print(\"A init executed\")\n",
        "\n",
        "class B(A):\n",
        "    def __init__(self):\n",
        "        super().__init__()\n",
        "        print(\"B init executed\")"
      ]
    },
    {
      "cell_type": "code",
      "source": [
        "abc = B()"
      ],
      "metadata": {
        "colab": {
          "base_uri": "https://localhost:8080/"
        },
        "id": "_JEHoMElfcVS",
        "outputId": "e5894c48-1c2c-4a23-c3e2-5d292f50d49b"
      },
      "execution_count": 3,
      "outputs": [
        {
          "output_type": "stream",
          "name": "stdout",
          "text": [
            "A init executed\n",
            "B init executed\n"
          ]
        }
      ]
    },
    {
      "cell_type": "code",
      "source": [
        "# MRO (Method Resolution Order)\n",
        "     \n",
        "\n",
        "class A:\n",
        "    pass\n",
        "\n",
        "class B(A):\n",
        "    x = 5\n",
        "\n",
        "class C(B):\n",
        "    pass\n",
        "\n",
        "class D(A):\n",
        "    x = 10\n",
        "\n",
        "class E(C, D):\n",
        "    pass\n",
        "     \n",
        "\n",
        "e = E()\n",
        "     \n",
        "\n",
        "print(e.x)"
      ],
      "metadata": {
        "colab": {
          "base_uri": "https://localhost:8080/"
        },
        "id": "4ij9A30QfcYQ",
        "outputId": "31ca4826-99f5-4aa8-abd0-f262e3bd0aa8"
      },
      "execution_count": 4,
      "outputs": [
        {
          "output_type": "stream",
          "name": "stdout",
          "text": [
            "5\n"
          ]
        }
      ]
    },
    {
      "cell_type": "code",
      "source": [
        "# DFS\n",
        "# if there is a loop solve branches differently\n",
        "     \n",
        "\n",
        "# Iteration Protocol\n",
        "\n",
        "# For any object to be an Iterable, it should have 2 dunders\n",
        "# 1. __iter__\n",
        "# 2. __next__\n",
        "\n",
        "# Protocol\n",
        "# Object's __iter__ method Should return an iterator\n",
        "# iterator __next__ method should return the new value on every cell\n",
        "# if the iterator reaches the end, it should raise an StopIteration exception\n",
        "     \n",
        "\n",
        "a = range(5)\n",
        "     \n",
        "\n",
        "# it = a.__iter__()\n",
        "it = iter(a)\n",
        "     \n",
        "\n",
        "it\n",
        "     \n",
        "\n",
        "# it.__next__()\n",
        "next(it)"
      ],
      "metadata": {
        "colab": {
          "base_uri": "https://localhost:8080/"
        },
        "id": "wAWOM9S7fcaq",
        "outputId": "6768cee1-99b3-4b45-a51c-0b35bf29f20b"
      },
      "execution_count": 5,
      "outputs": [
        {
          "output_type": "execute_result",
          "data": {
            "text/plain": [
              "0"
            ]
          },
          "metadata": {},
          "execution_count": 5
        }
      ]
    },
    {
      "cell_type": "code",
      "source": [
        "for i in range(5):\n",
        "    print(i)"
      ],
      "metadata": {
        "id": "QWWqshk9fcdG"
      },
      "execution_count": null,
      "outputs": []
    },
    {
      "cell_type": "code",
      "source": [
        "class myrange:\n",
        "    def __init__(self, n):\n",
        "        self.n = n\n",
        "\n",
        "    def __iter__(self):\n",
        "        return myrange_iterator(self)\n",
        "\n",
        "class myrange_iterator:\n",
        "    def __init__(self, myrange):\n",
        "        self.myrange = myrange\n",
        "        self.i = 0\n",
        "\n",
        "    def __next__(self):\n",
        "        ret = self.i\n",
        "        self.i += 1\n",
        "\n",
        "        if ret >= self.myrange.n:\n",
        "            raise StopIteration\n",
        "\n",
        "\n",
        "        return ret\n",
        "In [182]:"
      ],
      "metadata": {
        "colab": {
          "base_uri": "https://localhost:8080/",
          "height": 130
        },
        "id": "rT5odS3Afcf2",
        "outputId": "fb152dfd-a3ee-42ff-b4d8-60446812767b"
      },
      "execution_count": 6,
      "outputs": [
        {
          "output_type": "error",
          "ename": "SyntaxError",
          "evalue": "ignored",
          "traceback": [
            "\u001b[0;36m  File \u001b[0;32m\"<ipython-input-6-96780a036751>\"\u001b[0;36m, line \u001b[0;32m22\u001b[0m\n\u001b[0;31m    In [182]:\u001b[0m\n\u001b[0m             ^\u001b[0m\n\u001b[0;31mSyntaxError\u001b[0m\u001b[0;31m:\u001b[0m invalid syntax\n"
          ]
        }
      ]
    },
    {
      "cell_type": "code",
      "source": [
        "# for (int i =0; i<10; i++)\n",
        "     \n",
        "\n",
        "it = iter(a)\n",
        "     \n",
        "\n",
        "next(it)"
      ],
      "metadata": {
        "colab": {
          "base_uri": "https://localhost:8080/"
        },
        "id": "Mjw2s6UvfciL",
        "outputId": "87e4c2aa-e838-44e3-cf3e-92e5082679cf"
      },
      "execution_count": 7,
      "outputs": [
        {
          "output_type": "execute_result",
          "data": {
            "text/plain": [
              "0"
            ]
          },
          "metadata": {},
          "execution_count": 7
        }
      ]
    }
  ]
}